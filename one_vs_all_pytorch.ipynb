{
 "cells": [
  {
   "cell_type": "code",
   "execution_count": 17,
   "id": "1381bbc6-417e-416e-8984-a8fc5e670994",
   "metadata": {},
   "outputs": [],
   "source": [
    "# Pytorch sin regularizacion ni optimizacion aplicado al dataset de wine usado en one vs all:\n",
    "\n",
    "import numpy as np\n",
    "import torch\n",
    "from torch.utils.data import TensorDataset, DataLoader\n",
    "from sklearn.model_selection import train_test_split\n",
    "from sklearn.metrics import accuracy_score\n"
   ]
  },
  {
   "cell_type": "code",
   "execution_count": 3,
   "id": "f15c2baf-ca1b-4842-9c3a-3f09680483ab",
   "metadata": {},
   "outputs": [],
   "source": [
    "# Carga desde CSV\n",
    "data = np.loadtxt(\"wine_preparado.csv\", delimiter=',')\n",
    "X, y = data[:, 1:], data[:, 0]\n",
    "\n",
    "# Dividimos los datos para entrenamiento y test\n",
    "X_train, X_test, y_train, y_test = train_test_split(\n",
    "    X, y, test_size=0.2, random_state=42, stratify=y)"
   ]
  },
  {
   "cell_type": "code",
   "execution_count": 5,
   "id": "8d8706c2-213e-4160-911c-bf5e1a50fac3",
   "metadata": {},
   "outputs": [],
   "source": [
    "# Convertimos a tensores\n",
    "X_train_t = torch.from_numpy(X_train).float().cuda()\n",
    "y_train_t = torch.from_numpy(y_train - 1).long().cuda()  # etiquetas 0,1,2 = 1,2,3\n",
    "X_test_t = torch.from_numpy(X_test).float().cuda()\n",
    "y_test_t = torch.from_numpy(y_test - 1).long().cuda()\n",
    "\n",
    "# Aplicamos el Dataloader para que el batch sea liviano\n",
    "train_ds = TensorDataset(X_train_t, y_train_t)\n",
    "train_loader = DataLoader(train_ds, batch_size=32, shuffle=True)"
   ]
  },
  {
   "cell_type": "code",
   "execution_count": 7,
   "id": "9b28644f-6a19-4663-ab38-66cef359ed78",
   "metadata": {},
   "outputs": [],
   "source": [
    "# Armamos el modelo custom:\n",
    "\n",
    "import torch.nn as nn\n",
    "import torch.nn.functional as F\n",
    "\n",
    "class ModelCustom2(nn.Module):\n",
    "    def __init__(self, D_in, H, D_out):\n",
    "        super().__init__()\n",
    "        self.fc1 = nn.Linear(D_in, H)\n",
    "        self.bn1 = nn.BatchNorm1d(H)\n",
    "        self.fc2 = nn.Linear(H, H)\n",
    "        self.bn2 = nn.BatchNorm1d(H)\n",
    "        self.fc3 = nn.Linear(H, D_out)\n",
    "    def forward(self, x):\n",
    "        x = F.relu(self.bn1(self.fc1(x)))\n",
    "        x = F.relu(self.bn2(self.fc2(x)))\n",
    "        x = self.fc3(x)\n",
    "        return x\n",
    "\n",
    "model = ModelCustom2(13, 64, 3).cuda()  # 13 etiquetas, 64 ocultas, 3 clases de salida"
   ]
  },
  {
   "cell_type": "code",
   "execution_count": 9,
   "id": "a265c7cc-34bc-4586-aec3-e1613d472c0a",
   "metadata": {},
   "outputs": [
    {
     "name": "stdout",
     "output_type": "stream",
     "text": [
      "Epoch 10/100 Loss 0.65251\n",
      "Epoch 20/100 Loss 0.68040\n",
      "Epoch 30/100 Loss 0.63634\n",
      "Epoch 40/100 Loss 0.70494\n",
      "Epoch 50/100 Loss 0.69314\n",
      "Epoch 60/100 Loss 0.70630\n",
      "Epoch 70/100 Loss 0.68338\n",
      "Epoch 80/100 Loss 0.67723\n",
      "Epoch 90/100 Loss 0.67108\n",
      "Epoch 100/100 Loss 0.67211\n"
     ]
    }
   ],
   "source": [
    "#Preparamos el entrenamiento:\n",
    "\n",
    "criterion = torch.nn.CrossEntropyLoss()\n",
    "optimizer = torch.optim.SGD(model.parameters(), lr=0.1, momentum=0.9)\n",
    "\n",
    "epochs = 100\n",
    "log_each = 10\n",
    "losses = []\n",
    "\n",
    "model.train()\n",
    "for e in range(1, epochs + 1):\n",
    "    for xb, yb in train_loader:\n",
    "        y_pred = model(xb)\n",
    "        loss = criterion(y_pred, yb)\n",
    "        optimizer.zero_grad()\n",
    "        loss.backward()\n",
    "        optimizer.step()\n",
    "    losses.append(loss.item())\n",
    "    if not e % log_each:\n",
    "        print(f\"Epoch {e}/{epochs} Loss {np.mean(losses):.5f}\")"
   ]
  },
  {
   "cell_type": "code",
   "execution_count": 10,
   "id": "de9223e0-5bdd-4ec1-86c9-91094a051d05",
   "metadata": {},
   "outputs": [
    {
     "name": "stdout",
     "output_type": "stream",
     "text": [
      "Accuracy: 0.7222222222222222\n"
     ]
    }
   ],
   "source": [
    "model.eval()\n",
    "with torch.no_grad():\n",
    "    y_logits = model(X_test_t)\n",
    "    y_pred = torch.argmax(y_logits, dim=1)\n",
    "\n",
    "acc = accuracy_score(y_test_t.cpu().numpy(), y_pred.cpu().numpy())\n",
    "print(\"Accuracy:\", acc)"
   ]
  },
  {
   "cell_type": "code",
   "execution_count": 14,
   "id": "a2d0d1d5-f68a-4db3-969b-a31b8e51c0f9",
   "metadata": {},
   "outputs": [
    {
     "name": "stdout",
     "output_type": "stream",
     "text": [
      "Predicciones del conjunto de test:\n",
      "[1 3 1 3 3 1 1 2 2 1 2 3 1 2 1 2 2 2 3 1 2 3 1 1 3 2 1 3 3 3 1 2 2 3 3 3]\n",
      "Ejemplo: 000 -> Prediccion: 1, Real: 1\n",
      "Ejemplo: 001 -> Prediccion: 3, Real: 3\n",
      "Ejemplo: 002 -> Prediccion: 1, Real: 1\n",
      "Ejemplo: 003 -> Prediccion: 3, Real: 2\n",
      "Ejemplo: 004 -> Prediccion: 3, Real: 2\n",
      "Ejemplo: 005 -> Prediccion: 1, Real: 1\n",
      "Ejemplo: 006 -> Prediccion: 1, Real: 1\n",
      "Ejemplo: 007 -> Prediccion: 2, Real: 2\n",
      "Ejemplo: 008 -> Prediccion: 2, Real: 2\n",
      "Ejemplo: 009 -> Prediccion: 1, Real: 3\n",
      "Ejemplo: 010 -> Prediccion: 2, Real: 2\n",
      "Ejemplo: 011 -> Prediccion: 3, Real: 3\n",
      "Ejemplo: 012 -> Prediccion: 1, Real: 1\n",
      "Ejemplo: 013 -> Prediccion: 2, Real: 3\n",
      "Ejemplo: 014 -> Prediccion: 1, Real: 1\n",
      "Ejemplo: 015 -> Prediccion: 2, Real: 2\n",
      "Ejemplo: 016 -> Prediccion: 2, Real: 2\n",
      "Ejemplo: 017 -> Prediccion: 2, Real: 1\n",
      "Ejemplo: 018 -> Prediccion: 3, Real: 2\n",
      "Ejemplo: 019 -> Prediccion: 1, Real: 1\n",
      "Ejemplo: 020 -> Prediccion: 2, Real: 2\n",
      "Ejemplo: 021 -> Prediccion: 3, Real: 2\n",
      "Ejemplo: 022 -> Prediccion: 1, Real: 1\n",
      "Ejemplo: 023 -> Prediccion: 1, Real: 1\n",
      "Ejemplo: 024 -> Prediccion: 3, Real: 2\n",
      "Ejemplo: 025 -> Prediccion: 2, Real: 2\n",
      "Ejemplo: 026 -> Prediccion: 1, Real: 1\n",
      "Ejemplo: 027 -> Prediccion: 3, Real: 3\n",
      "Ejemplo: 028 -> Prediccion: 3, Real: 2\n",
      "Ejemplo: 029 -> Prediccion: 3, Real: 3\n",
      "Ejemplo: 030 -> Prediccion: 1, Real: 1\n",
      "Ejemplo: 031 -> Prediccion: 2, Real: 3\n",
      "Ejemplo: 032 -> Prediccion: 2, Real: 2\n",
      "Ejemplo: 033 -> Prediccion: 3, Real: 3\n",
      "Ejemplo: 034 -> Prediccion: 3, Real: 3\n",
      "Ejemplo: 035 -> Prediccion: 3, Real: 3\n"
     ]
    }
   ],
   "source": [
    "# Mostrar las predicciones:\n",
    "pred_labels = (y_pred + 1).cpu().numpy()  # vuelve al formato 1,2,3\n",
    "print(\"Predicciones del conjunto de test:\")\n",
    "print(pred_labels)\n",
    "\n",
    "# Para comparar real con prediccion:\n",
    "true_labels = (y_test_t + 1).cpu().numpy()\n",
    "for i, (p, t) in enumerate(zip(pred_labels, true_labels)):\n",
    "    print(f\"Ejemplo: {i:03d} -> Prediccion: {p}, Real: {t}\")"
   ]
  },
  {
   "cell_type": "code",
   "execution_count": null,
   "id": "c67289cf-9961-41c7-b116-7142cb9ccf0e",
   "metadata": {},
   "outputs": [],
   "source": []
  }
 ],
 "metadata": {
  "kernelspec": {
   "display_name": "Python (PyTorch - myenv)",
   "language": "python",
   "name": "myenv"
  },
  "language_info": {
   "codemirror_mode": {
    "name": "ipython",
    "version": 3
   },
   "file_extension": ".py",
   "mimetype": "text/x-python",
   "name": "python",
   "nbconvert_exporter": "python",
   "pygments_lexer": "ipython3",
   "version": "3.11.4"
  }
 },
 "nbformat": 4,
 "nbformat_minor": 5
}
